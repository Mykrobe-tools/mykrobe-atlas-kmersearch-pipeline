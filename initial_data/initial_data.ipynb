{
 "cells": [
  {
   "cell_type": "code",
   "execution_count": 1,
   "id": "7f34f5e7-48db-489a-ac24-0b9beeacf5ab",
   "metadata": {},
   "outputs": [],
   "source": [
    "import pandas as pd"
   ]
  },
  {
   "cell_type": "code",
   "execution_count": 2,
   "id": "ba239e69-dc98-44e0-bc57-f33f5ea8b899",
   "metadata": {},
   "outputs": [],
   "source": [
    "pilot = pd.read_csv('ctx_list_pilot.tsv', sep='\\t', header=0)"
   ]
  },
  {
   "cell_type": "code",
   "execution_count": 3,
   "id": "dd6f9d86-7a27-4c6c-aa48-4019d6712515",
   "metadata": {},
   "outputs": [
    {
     "data": {
      "text/html": [
       "<div>\n",
       "<style scoped>\n",
       "    .dataframe tbody tr th:only-of-type {\n",
       "        vertical-align: middle;\n",
       "    }\n",
       "\n",
       "    .dataframe tbody tr th {\n",
       "        vertical-align: top;\n",
       "    }\n",
       "\n",
       "    .dataframe thead th {\n",
       "        text-align: right;\n",
       "    }\n",
       "</style>\n",
       "<table border=\"1\" class=\"dataframe\">\n",
       "  <thead>\n",
       "    <tr style=\"text-align: right;\">\n",
       "      <th></th>\n",
       "      <th>sample_name</th>\n",
       "      <th>ctx_file</th>\n",
       "    </tr>\n",
       "  </thead>\n",
       "  <tbody>\n",
       "    <tr>\n",
       "      <th>0</th>\n",
       "      <td>SAMD00016703</td>\n",
       "      <td>/nfs/leia/research/iqbal/mhunt/Clockwork_ena_t...</td>\n",
       "    </tr>\n",
       "    <tr>\n",
       "      <th>1</th>\n",
       "      <td>SAMD00017693</td>\n",
       "      <td>/nfs/leia/research/iqbal/mhunt/Clockwork_ena_t...</td>\n",
       "    </tr>\n",
       "    <tr>\n",
       "      <th>2</th>\n",
       "      <td>SAMD00017694</td>\n",
       "      <td>/nfs/leia/research/iqbal/mhunt/Clockwork_ena_t...</td>\n",
       "    </tr>\n",
       "    <tr>\n",
       "      <th>3</th>\n",
       "      <td>SAMD00017695</td>\n",
       "      <td>/nfs/leia/research/iqbal/mhunt/Clockwork_ena_t...</td>\n",
       "    </tr>\n",
       "    <tr>\n",
       "      <th>4</th>\n",
       "      <td>SAMD00017696</td>\n",
       "      <td>/nfs/leia/research/iqbal/mhunt/Clockwork_ena_t...</td>\n",
       "    </tr>\n",
       "    <tr>\n",
       "      <th>...</th>\n",
       "      <td>...</td>\n",
       "      <td>...</td>\n",
       "    </tr>\n",
       "    <tr>\n",
       "      <th>69662</th>\n",
       "      <td>02TB2100</td>\n",
       "      <td>/nfs/leia/research/iqbal/mhunt/Cryptic_product...</td>\n",
       "    </tr>\n",
       "    <tr>\n",
       "      <th>69663</th>\n",
       "      <td>02TB2181</td>\n",
       "      <td>/nfs/leia/research/iqbal/mhunt/Cryptic_product...</td>\n",
       "    </tr>\n",
       "    <tr>\n",
       "      <th>69664</th>\n",
       "      <td>02TB2077</td>\n",
       "      <td>/nfs/leia/research/iqbal/mhunt/Cryptic_product...</td>\n",
       "    </tr>\n",
       "    <tr>\n",
       "      <th>69665</th>\n",
       "      <td>02TB1949</td>\n",
       "      <td>/nfs/leia/research/iqbal/mhunt/Cryptic_product...</td>\n",
       "    </tr>\n",
       "    <tr>\n",
       "      <th>69666</th>\n",
       "      <td>02TB1533</td>\n",
       "      <td>/nfs/leia/research/iqbal/mhunt/Cryptic_product...</td>\n",
       "    </tr>\n",
       "  </tbody>\n",
       "</table>\n",
       "<p>69667 rows × 2 columns</p>\n",
       "</div>"
      ],
      "text/plain": [
       "        sample_name                                           ctx_file\n",
       "0      SAMD00016703  /nfs/leia/research/iqbal/mhunt/Clockwork_ena_t...\n",
       "1      SAMD00017693  /nfs/leia/research/iqbal/mhunt/Clockwork_ena_t...\n",
       "2      SAMD00017694  /nfs/leia/research/iqbal/mhunt/Clockwork_ena_t...\n",
       "3      SAMD00017695  /nfs/leia/research/iqbal/mhunt/Clockwork_ena_t...\n",
       "4      SAMD00017696  /nfs/leia/research/iqbal/mhunt/Clockwork_ena_t...\n",
       "...             ...                                                ...\n",
       "69662      02TB2100  /nfs/leia/research/iqbal/mhunt/Cryptic_product...\n",
       "69663      02TB2181  /nfs/leia/research/iqbal/mhunt/Cryptic_product...\n",
       "69664      02TB2077  /nfs/leia/research/iqbal/mhunt/Cryptic_product...\n",
       "69665      02TB1949  /nfs/leia/research/iqbal/mhunt/Cryptic_product...\n",
       "69666      02TB1533  /nfs/leia/research/iqbal/mhunt/Cryptic_product...\n",
       "\n",
       "[69667 rows x 2 columns]"
      ]
     },
     "execution_count": 3,
     "metadata": {},
     "output_type": "execute_result"
    }
   ],
   "source": [
    "pilot"
   ]
  },
  {
   "cell_type": "code",
   "execution_count": 4,
   "id": "461d5452-6bbb-4e66-a5ac-be1dcd415c3c",
   "metadata": {},
   "outputs": [],
   "source": [
    "sa = pd.read_csv('sa_ctx_snames.list.tsv', sep='\\t', header=None)"
   ]
  },
  {
   "cell_type": "code",
   "execution_count": 5,
   "id": "bf452222-5ad2-4442-870c-85c4325fe6fd",
   "metadata": {},
   "outputs": [
    {
     "data": {
      "text/html": [
       "<div>\n",
       "<style scoped>\n",
       "    .dataframe tbody tr th:only-of-type {\n",
       "        vertical-align: middle;\n",
       "    }\n",
       "\n",
       "    .dataframe tbody tr th {\n",
       "        vertical-align: top;\n",
       "    }\n",
       "\n",
       "    .dataframe thead th {\n",
       "        text-align: right;\n",
       "    }\n",
       "</style>\n",
       "<table border=\"1\" class=\"dataframe\">\n",
       "  <thead>\n",
       "    <tr style=\"text-align: right;\">\n",
       "      <th></th>\n",
       "      <th>0</th>\n",
       "      <th>1</th>\n",
       "    </tr>\n",
       "  </thead>\n",
       "  <tbody>\n",
       "    <tr>\n",
       "      <th>0</th>\n",
       "      <td>YA00196031</td>\n",
       "      <td>/nfs/leia/research/iqbal/projects/mykrobeatlas...</td>\n",
       "    </tr>\n",
       "    <tr>\n",
       "      <th>1</th>\n",
       "      <td>YA00196028</td>\n",
       "      <td>/nfs/leia/research/iqbal/projects/mykrobeatlas...</td>\n",
       "    </tr>\n",
       "    <tr>\n",
       "      <th>2</th>\n",
       "      <td>YA00196035</td>\n",
       "      <td>/nfs/leia/research/iqbal/projects/mykrobeatlas...</td>\n",
       "    </tr>\n",
       "    <tr>\n",
       "      <th>3</th>\n",
       "      <td>YA00196034</td>\n",
       "      <td>/nfs/leia/research/iqbal/projects/mykrobeatlas...</td>\n",
       "    </tr>\n",
       "    <tr>\n",
       "      <th>4</th>\n",
       "      <td>YA00196030</td>\n",
       "      <td>/nfs/leia/research/iqbal/projects/mykrobeatlas...</td>\n",
       "    </tr>\n",
       "    <tr>\n",
       "      <th>...</th>\n",
       "      <td>...</td>\n",
       "      <td>...</td>\n",
       "    </tr>\n",
       "    <tr>\n",
       "      <th>502</th>\n",
       "      <td>YA00213802</td>\n",
       "      <td>/nfs/leia/research/iqbal/projects/mykrobeatlas...</td>\n",
       "    </tr>\n",
       "    <tr>\n",
       "      <th>503</th>\n",
       "      <td>YA00214490</td>\n",
       "      <td>/nfs/leia/research/iqbal/projects/mykrobeatlas...</td>\n",
       "    </tr>\n",
       "    <tr>\n",
       "      <th>504</th>\n",
       "      <td>YA00214491</td>\n",
       "      <td>/nfs/leia/research/iqbal/projects/mykrobeatlas...</td>\n",
       "    </tr>\n",
       "    <tr>\n",
       "      <th>505</th>\n",
       "      <td>YA00214494</td>\n",
       "      <td>/nfs/leia/research/iqbal/projects/mykrobeatlas...</td>\n",
       "    </tr>\n",
       "    <tr>\n",
       "      <th>506</th>\n",
       "      <td>YA00214496</td>\n",
       "      <td>/nfs/leia/research/iqbal/projects/mykrobeatlas...</td>\n",
       "    </tr>\n",
       "  </tbody>\n",
       "</table>\n",
       "<p>507 rows × 2 columns</p>\n",
       "</div>"
      ],
      "text/plain": [
       "              0                                                  1\n",
       "0    YA00196031  /nfs/leia/research/iqbal/projects/mykrobeatlas...\n",
       "1    YA00196028  /nfs/leia/research/iqbal/projects/mykrobeatlas...\n",
       "2    YA00196035  /nfs/leia/research/iqbal/projects/mykrobeatlas...\n",
       "3    YA00196034  /nfs/leia/research/iqbal/projects/mykrobeatlas...\n",
       "4    YA00196030  /nfs/leia/research/iqbal/projects/mykrobeatlas...\n",
       "..          ...                                                ...\n",
       "502  YA00213802  /nfs/leia/research/iqbal/projects/mykrobeatlas...\n",
       "503  YA00214490  /nfs/leia/research/iqbal/projects/mykrobeatlas...\n",
       "504  YA00214491  /nfs/leia/research/iqbal/projects/mykrobeatlas...\n",
       "505  YA00214494  /nfs/leia/research/iqbal/projects/mykrobeatlas...\n",
       "506  YA00214496  /nfs/leia/research/iqbal/projects/mykrobeatlas...\n",
       "\n",
       "[507 rows x 2 columns]"
      ]
     },
     "execution_count": 5,
     "metadata": {},
     "output_type": "execute_result"
    }
   ],
   "source": [
    "sa"
   ]
  },
  {
   "cell_type": "code",
   "execution_count": 6,
   "id": "5f38c7ab-6932-4107-9107-0fe3dba2020d",
   "metadata": {},
   "outputs": [
    {
     "data": {
      "text/plain": [
       "set()"
      ]
     },
     "execution_count": 6,
     "metadata": {},
     "output_type": "execute_result"
    }
   ],
   "source": [
    "set(pilot[['ctx_file']]).intersection(set(sa[[1]]))"
   ]
  },
  {
   "cell_type": "code",
   "execution_count": 7,
   "id": "8a17df6f-1bd2-4f4d-9a9e-80d1fe1a776f",
   "metadata": {},
   "outputs": [
    {
     "data": {
      "text/plain": [
       "set()"
      ]
     },
     "execution_count": 7,
     "metadata": {},
     "output_type": "execute_result"
    }
   ],
   "source": [
    "set(pilot[['sample_name']]).intersection(set(sa[[0]]))"
   ]
  },
  {
   "cell_type": "code",
   "execution_count": null,
   "id": "1ac43157-090c-45b3-b9b7-9d2187536c99",
   "metadata": {},
   "outputs": [],
   "source": []
  }
 ],
 "metadata": {
  "kernelspec": {
   "display_name": "Python 3",
   "language": "python",
   "name": "python3"
  },
  "language_info": {
   "codemirror_mode": {
    "name": "ipython",
    "version": 3
   },
   "file_extension": ".py",
   "mimetype": "text/x-python",
   "name": "python",
   "nbconvert_exporter": "python",
   "pygments_lexer": "ipython3",
   "version": "3.9.0"
  }
 },
 "nbformat": 4,
 "nbformat_minor": 5
}
